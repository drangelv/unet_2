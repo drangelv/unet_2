{
 "cells": [
  {
   "cell_type": "code",
   "execution_count": null,
   "metadata": {
    "collapsed": true
   },
   "outputs": [],
   "source": [
    "import matplotlib.pyplot as plt\n",
    "import numpy as np\n",
    "import os\n",
    "import pandas as pd\n",
    "\n",
    "import h5py\n",
    "\n",
    "from tqdm import tqdm\n"
   ]
  },
  {
   "cell_type": "code",
   "execution_count": 2,
   "metadata": {},
   "outputs": [
    {
     "data": {
      "text/html": [
       "<div>\n",
       "<style scoped>\n",
       "    .dataframe tbody tr th:only-of-type {\n",
       "        vertical-align: middle;\n",
       "    }\n",
       "\n",
       "    .dataframe tbody tr th {\n",
       "        vertical-align: top;\n",
       "    }\n",
       "\n",
       "    .dataframe thead th {\n",
       "        text-align: right;\n",
       "    }\n",
       "</style>\n",
       "<table border=\"1\" class=\"dataframe\">\n",
       "  <thead>\n",
       "    <tr style=\"text-align: right;\">\n",
       "      <th></th>\n",
       "      <th>absolute_paths</th>\n",
       "    </tr>\n",
       "  </thead>\n",
       "  <tbody>\n",
       "    <tr>\n",
       "      <th>0</th>\n",
       "      <td>/Users/diego/Documents/tesis_goes16/inputs/tru...</td>\n",
       "    </tr>\n",
       "    <tr>\n",
       "      <th>1</th>\n",
       "      <td>/Users/diego/Documents/tesis_goes16/inputs/tru...</td>\n",
       "    </tr>\n",
       "    <tr>\n",
       "      <th>2</th>\n",
       "      <td>/Users/diego/Documents/tesis_goes16/inputs/tru...</td>\n",
       "    </tr>\n",
       "    <tr>\n",
       "      <th>3</th>\n",
       "      <td>/Users/diego/Documents/tesis_goes16/inputs/tru...</td>\n",
       "    </tr>\n",
       "    <tr>\n",
       "      <th>4</th>\n",
       "      <td>/Users/diego/Documents/tesis_goes16/inputs/tru...</td>\n",
       "    </tr>\n",
       "    <tr>\n",
       "      <th>...</th>\n",
       "      <td>...</td>\n",
       "    </tr>\n",
       "    <tr>\n",
       "      <th>104727</th>\n",
       "      <td>/Users/diego/Documents/tesis_goes16/inputs/tru...</td>\n",
       "    </tr>\n",
       "    <tr>\n",
       "      <th>104728</th>\n",
       "      <td>/Users/diego/Documents/tesis_goes16/inputs/tru...</td>\n",
       "    </tr>\n",
       "    <tr>\n",
       "      <th>104729</th>\n",
       "      <td>/Users/diego/Documents/tesis_goes16/inputs/tru...</td>\n",
       "    </tr>\n",
       "    <tr>\n",
       "      <th>104730</th>\n",
       "      <td>/Users/diego/Documents/tesis_goes16/inputs/tru...</td>\n",
       "    </tr>\n",
       "    <tr>\n",
       "      <th>104731</th>\n",
       "      <td>/Users/diego/Documents/tesis_goes16/inputs/tru...</td>\n",
       "    </tr>\n",
       "  </tbody>\n",
       "</table>\n",
       "<p>104732 rows × 1 columns</p>\n",
       "</div>"
      ],
      "text/plain": [
       "                                           absolute_paths\n",
       "0       /Users/diego/Documents/tesis_goes16/inputs/tru...\n",
       "1       /Users/diego/Documents/tesis_goes16/inputs/tru...\n",
       "2       /Users/diego/Documents/tesis_goes16/inputs/tru...\n",
       "3       /Users/diego/Documents/tesis_goes16/inputs/tru...\n",
       "4       /Users/diego/Documents/tesis_goes16/inputs/tru...\n",
       "...                                                   ...\n",
       "104727  /Users/diego/Documents/tesis_goes16/inputs/tru...\n",
       "104728  /Users/diego/Documents/tesis_goes16/inputs/tru...\n",
       "104729  /Users/diego/Documents/tesis_goes16/inputs/tru...\n",
       "104730  /Users/diego/Documents/tesis_goes16/inputs/tru...\n",
       "104731  /Users/diego/Documents/tesis_goes16/inputs/tru...\n",
       "\n",
       "[104732 rows x 1 columns]"
      ]
     },
     "execution_count": 2,
     "metadata": {},
     "output_type": "execute_result"
    }
   ],
   "source": [
    "df = pd.read_parquet('/Users/diego/Documents/tesis_goes16/inputs/absolute_paths_h5.parquet')\n",
    "df"
   ]
  },
  {
   "cell_type": "code",
   "execution_count": 3,
   "metadata": {},
   "outputs": [],
   "source": [
    "sample_h5=df['absolute_paths'].iloc[0]"
   ]
  },
  {
   "cell_type": "code",
   "execution_count": 4,
   "metadata": {},
   "outputs": [
    {
     "data": {
      "text/plain": [
       "'/Users/diego/Documents/tesis_goes16/inputs/trusted2/2023_07_09_20_59_59.h5'"
      ]
     },
     "execution_count": 4,
     "metadata": {},
     "output_type": "execute_result"
    }
   ],
   "source": [
    "sample_h5"
   ]
  },
  {
   "cell_type": "code",
   "execution_count": 5,
   "metadata": {},
   "outputs": [
    {
     "name": "stdout",
     "output_type": "stream",
     "text": [
      "rainfall\n",
      "[[0.         0.         0.         ... 0.         0.         0.        ]\n",
      " [0.         0.         0.01574084 ... 0.         0.         0.        ]\n",
      " [0.         0.         0.05995937 ... 0.         0.         0.        ]\n",
      " ...\n",
      " [0.         0.         0.         ... 0.         0.         0.        ]\n",
      " [0.         0.         0.         ... 0.         0.         0.        ]\n",
      " [0.         0.         0.         ... 0.         0.         0.        ]]\n"
     ]
    }
   ],
   "source": [
    "with h5py.File(sample_h5, 'r') as f:\n",
    "    # Listar todos los datasets y grupos en la raíz\n",
    "    for key in f.keys():\n",
    "        print(key)\n",
    "\n",
    "    # Acceder a un dataset específico\n",
    "    data = f['rainfall'][:]\n",
    "    print(data)"
   ]
  },
  {
   "cell_type": "code",
   "execution_count": 6,
   "metadata": {},
   "outputs": [
    {
     "data": {
      "text/plain": [
       "(128, 128)"
      ]
     },
     "execution_count": 6,
     "metadata": {},
     "output_type": "execute_result"
    }
   ],
   "source": [
    "data.shape"
   ]
  },
  {
   "cell_type": "code",
   "execution_count": 8,
   "metadata": {},
   "outputs": [
    {
     "name": "stderr",
     "output_type": "stream",
     "text": [
      "Procesando archivos: 100%|██████████| 104732/104732 [01:55<00:00, 905.48archivo/s] \n"
     ]
    },
    {
     "name": "stdout",
     "output_type": "stream",
     "text": [
      "Archivo combinado creado en: /Users/diego/Documents/tesis_goes16/inputs/combined_data_final.h5\n",
      "Archivo combinado 32x32 creado en: /Users/diego/Documents/tesis_goes16/inputs/combined_data_32_32.h5\n"
     ]
    }
   ],
   "source": [
    "# Supongamos que 'df' es un DataFrame que contiene los paths absolutos de los archivos .h5\n",
    "# Ejemplo: df = pd.DataFrame({'paths': ['/path/to/file1.h5', '/path/to/file2.h5']})\n",
    "file_paths = df['absolute_paths'].tolist()\n",
    "\n",
    "# Nombres de los archivos HDF5 finales\n",
    "output_file = '/Users/diego/Documents/tesis_goes16/inputs/combined_data_final.h5'\n",
    "output_file_32_32 = '/Users/diego/Documents/tesis_goes16/inputs/combined_data_32_32.h5'\n",
    "\n",
    "# Crear los archivos HDF5 finales\n",
    "with h5py.File(output_file, 'w') as h5_final, h5py.File(output_file_32_32, 'w') as h5_32_32:\n",
    "    # Usar tqdm para mostrar el progreso\n",
    "    for file_path in tqdm(file_paths, desc=\"Procesando archivos\", unit=\"archivo\"):\n",
    "        # Extraer el nombre del archivo sin la extensión\n",
    "        key_name = os.path.splitext(os.path.basename(file_path))[0]\n",
    "        \n",
    "        # Abrir el archivo HDF5 y leer el array bajo la llave 'rainfall'\n",
    "        with h5py.File(file_path, 'r') as h5_file:\n",
    "            if 'rainfall' in h5_file:\n",
    "                data = h5_file['rainfall'][:]\n",
    "                \n",
    "                # Guardar el array completo en el archivo HDF5 final\n",
    "                h5_final.create_dataset(key_name, data=data)\n",
    "                \n",
    "                # Extraer el cuadrado de 32x32 píxeles más interno\n",
    "                center_32_32 = data[\n",
    "                    data.shape[0] // 2 - 16 : data.shape[0] // 2 + 16,\n",
    "                    data.shape[1] // 2 - 16 : data.shape[1] // 2 + 16\n",
    "                ]\n",
    "                \n",
    "                # Guardar el cuadrado 32x32 en el archivo HDF5 correspondiente\n",
    "                h5_32_32.create_dataset(key_name, data=center_32_32)\n",
    "            else:\n",
    "                print(f\"Warning: 'rainfall' key not found in {file_path}\")\n",
    "\n",
    "print(f\"Archivo combinado creado en: {output_file}\")\n",
    "print(f\"Archivo combinado 32x32 creado en: {output_file_32_32}\")"
   ]
  }
 ],
 "metadata": {
  "kernelspec": {
   "display_name": "env_goes",
   "language": "python",
   "name": "env_goes"
  },
  "language_info": {
   "codemirror_mode": {
    "name": "ipython",
    "version": 3
   },
   "file_extension": ".py",
   "mimetype": "text/x-python",
   "name": "python",
   "nbconvert_exporter": "python",
   "pygments_lexer": "ipython3",
   "version": "3.11.9"
  }
 },
 "nbformat": 4,
 "nbformat_minor": 0
}
